{
 "cells": [
  {
   "cell_type": "code",
   "execution_count": 1,
   "metadata": {},
   "outputs": [],
   "source": [
    "import numpy as np\n",
    "from functions import Function\n",
    "from model import NonLinearEquationSolver as nle\n",
    "from animer import Animation"
   ]
  },
  {
   "cell_type": "code",
   "execution_count": 2,
   "metadata": {},
   "outputs": [],
   "source": [
    "f1 = Function(0, 1, lambda x: np.exp(-x ** 2 / 2) - x, lambda x: -x * np.exp(-x ** 2 / 2) - 1, 0.5)\n",
    "f2 = Function(0.01, 2, lambda x: x ** 2-x, lambda x: 2 * x, 0.5)\n",
    "f3 = Function(0.1, 2, lambda x: 1/x-2, lambda x: -1 / (x** 2),0.2)\n",
    "f4 = Function(0.2, 2, lambda x: 1 / x - 2, lambda x: -1 / x ** 2, 0.2)"
   ]
  },
  {
   "cell_type": "markdown",
   "metadata": {},
   "source": [
    "$$f_1(x)=e^\\frac{-x^2}{2}-x\\quad sur \\quad [0,1]$$"
   ]
  },
  {
   "cell_type": "code",
   "execution_count": null,
   "metadata": {
    "scrolled": true
   },
   "outputs": [],
   "source": [
    "(e,ITERATIONS)=(1e-30,300)\n",
    "x1_dicho=nle.generate_values(nle.dichotomie(f1),e,ITERATIONS)\n",
    "x1_newton=nle.generate_values(nle.newton(f1),e,ITERATIONS)\n",
    "x1_secante=nle.generate_values(nle.secante(f1),e,ITERATIONS)\n",
    "print(\"Nombre d'iteration fonction f1\\ndichotomie={}\\nLa secante ={}\\nnewton={}\".format(len(x1_dicho),len(x1_secante),len(x1_newton)))"
   ]
  },
  {
   "cell_type": "markdown",
   "metadata": {},
   "source": [
    "$$f_2(x)=x^2-x\\quad sur \\quad  [0,2]$$ "
   ]
  },
  {
   "cell_type": "code",
   "execution_count": null,
   "metadata": {
    "scrolled": true
   },
   "outputs": [],
   "source": [
    "x2_dicho=nle.generate_values(nle.dichotomie(f2),e,ITERATIONS)\n",
    "x2_newton=nle.generate_values(nle.newton(f2),e,ITERATIONS)\n",
    "x2_secante=nle.generate_values(nle.secante(f2),e,ITERATIONS)\n",
    "print(\"Nombre d'iteration fonction f2\\ndichotomie={}\\nLa secante ={}\\nnewton={}\".format(len(x2_dicho),len(x2_secante),len(x2_newton)))"
   ]
  },
  {
   "cell_type": "code",
   "execution_count": null,
   "metadata": {
    "scrolled": false
   },
   "outputs": [],
   "source": [
    "x3_dicho=nle.generate_values(nle.dichotomie(f3),e,ITERATIONS)\n",
    "x3_newton=nle.generate_values(nle.newton(f3),e,ITERATIONS)\n",
    "x3_secante=nle.generate_values(nle.secante(f3),e,ITERATIONS)\n",
    "print(\"Nombre d'iteration fonction f3\\ndichotomie={}\\nLa secante ={}\\nnewton={}\".format(len(x3_dicho),len(x3_secante),len(x3_newton)))"
   ]
  },
  {
   "cell_type": "code",
   "execution_count": 3,
   "metadata": {
    "scrolled": false
   },
   "outputs": [
    {
     "ename": "AttributeError",
     "evalue": "'Function' object has no attribute 'initialiser_draw'",
     "output_type": "error",
     "traceback": [
      "\u001b[0;31m---------------------------------------------------------------------------\u001b[0m",
      "\u001b[0;31mAttributeError\u001b[0m                            Traceback (most recent call last)",
      "\u001b[0;32m<ipython-input-3-756c4122d4bc>\u001b[0m in \u001b[0;36m<module>\u001b[0;34m\u001b[0m\n\u001b[0;32m----> 1\u001b[0;31m \u001b[0ma\u001b[0m\u001b[0;34m=\u001b[0m\u001b[0mf4\u001b[0m\u001b[0;34m.\u001b[0m\u001b[0minitialiser_draw\u001b[0m\u001b[0;34m(\u001b[0m\u001b[0;34m\"f2\"\u001b[0m\u001b[0;34m)\u001b[0m\u001b[0;34m\u001b[0m\u001b[0;34m\u001b[0m\u001b[0m\n\u001b[0m",
      "\u001b[0;31mAttributeError\u001b[0m: 'Function' object has no attribute 'initialiser_draw'"
     ]
    }
   ],
   "source": [
    "a=f4.initialiser_draw(\"f2\")"
   ]
  },
  {
   "cell_type": "code",
   "execution_count": 10,
   "metadata": {},
   "outputs": [
    {
     "data": {
      "text/plain": [
       "<animer.Animation at 0x7f032286c6d0>"
      ]
     },
     "execution_count": 10,
     "metadata": {},
     "output_type": "execute_result"
    },
    {
     "data": {
      "image/png": "[encoded data removed]",
      "text/plain": [
       "<Figure size 864x576 with 1 Axes>"
      ]
     },
     "metadata": {
      "needs_background": "light"
     },
     "output_type": "display_data"
    }
   ],
   "source": [
    "Animation(f4)"
   ]
  },
  {
   "cell_type": "code",
   "execution_count": 6,
   "metadata": {},
   "outputs": [],
   "source": [
    "l,l2=animer.animer_la_secante( 1)"
   ]
  },
  {
   "cell_type": "code",
   "execution_count": 7,
   "metadata": {},
   "outputs": [
    {
     "data": {
      "text/plain": [
       "<matplotlib.lines.Line2D at 0x7f0323c92100>"
      ]
     },
     "execution_count": 7,
     "metadata": {},
     "output_type": "execute_result"
    }
   ],
   "source": [
    "from matplotlib import animation\n",
    "\n",
    "# blit=True re-draws only the parts that have changed.\n",
    "anim = animation.FuncAnimation(fig, drawframe_ptfixePure, frames=15, interval=1500, blit=True)"
   ]
  }
 ],
 "metadata": {
  "kernelspec": {
   "display_name": "Python 3",
   "language": "python",
   "name": "python3"
  },
  "language_info": {
   "codemirror_mode": {
    "name": "ipython",
    "version": 3
   },
   "file_extension": ".py",
   "mimetype": "text/x-python",
   "name": "python",
   "nbconvert_exporter": "python",
   "pygments_lexer": "ipython3",
   "version": "3.8.5"
  }
 },
 "nbformat": 4,
 "nbformat_minor": 4
}
